{
 "cells": [
  {
   "cell_type": "code",
   "execution_count": 1,
   "id": "dc186376",
   "metadata": {},
   "outputs": [],
   "source": [
    "with open('nohup.txt', 'r') as myfile:\n",
    "    data = myfile.read().splitlines()"
   ]
  },
  {
   "cell_type": "code",
   "execution_count": 15,
   "id": "e1aa76c8",
   "metadata": {},
   "outputs": [],
   "source": [
    "training_lines = []\n",
    "testing_lines = []\n",
    "for i in range(len(data)):\n",
    "    if '\\t\\ttraining' in data[i]:\n",
    "        training_lines.append(i)\n",
    "    elif '\\t\\ttesting' in data[i]:\n",
    "        testing_lines.append(i)"
   ]
  },
  {
   "cell_type": "code",
   "execution_count": 21,
   "id": "ee011e9b",
   "metadata": {},
   "outputs": [
    {
     "data": {
      "text/plain": [
       "['\\t\\ttraining', '1', '0 Overall Mean Squared Error: 0.9029325842857361']"
      ]
     },
     "execution_count": 21,
     "metadata": {},
     "output_type": "execute_result"
    }
   ],
   "source": [
    "data[training_lines[0]].split('/')"
   ]
  }
 ],
 "metadata": {
  "kernelspec": {
   "display_name": "Python 3 (ipykernel)",
   "language": "python",
   "name": "python3"
  },
  "language_info": {
   "codemirror_mode": {
    "name": "ipython",
    "version": 3
   },
   "file_extension": ".py",
   "mimetype": "text/x-python",
   "name": "python",
   "nbconvert_exporter": "python",
   "pygments_lexer": "ipython3",
   "version": "3.9.7"
  }
 },
 "nbformat": 4,
 "nbformat_minor": 5
}
