{
 "cells": [
  {
   "cell_type": "code",
   "execution_count": 2,
   "id": "6159a32a-0fd9-4f90-a2c1-a5e9b82e2b61",
   "metadata": {
    "tags": []
   },
   "outputs": [
    {
     "name": "stdout",
     "output_type": "stream",
     "text": [
      "Keyring is skipped due to an exception: 'keyring.backends'\n",
      "Collecting pydicom\n",
      "  Using cached pydicom-2.3.1-py3-none-any.whl (2.0 MB)\n",
      "Installing collected packages: pydicom\n",
      "Successfully installed pydicom-2.3.1\n",
      "\u001b[33mWARNING: Running pip as the 'root' user can result in broken permissions and conflicting behaviour with the system package manager. It is recommended to use a virtual environment instead: https://pip.pypa.io/warnings/venv\u001b[0m\u001b[33m\n",
      "\u001b[0mNote: you may need to restart the kernel to use updated packages.\n",
      "Keyring is skipped due to an exception: 'keyring.backends'\n",
      "Collecting torchmetrics\n",
      "  Using cached torchmetrics-0.11.0-py3-none-any.whl (512 kB)\n",
      "Requirement already satisfied: packaging in /opt/conda/lib/python3.7/site-packages (from torchmetrics) (20.1)\n",
      "Requirement already satisfied: numpy>=1.17.2 in /opt/conda/lib/python3.7/site-packages (from torchmetrics) (1.21.6)\n",
      "Collecting torch>=1.8.1\n",
      "  Using cached torch-1.13.1-cp37-cp37m-manylinux1_x86_64.whl (887.5 MB)\n",
      "Requirement already satisfied: typing-extensions in /opt/conda/lib/python3.7/site-packages (from torchmetrics) (4.4.0)\n",
      "Collecting nvidia-cuda-nvrtc-cu11==11.7.99\n",
      "  Using cached nvidia_cuda_nvrtc_cu11-11.7.99-2-py3-none-manylinux1_x86_64.whl (21.0 MB)\n",
      "Collecting nvidia-cuda-runtime-cu11==11.7.99\n",
      "  Using cached nvidia_cuda_runtime_cu11-11.7.99-py3-none-manylinux1_x86_64.whl (849 kB)\n",
      "Collecting nvidia-cublas-cu11==11.10.3.66\n",
      "  Using cached nvidia_cublas_cu11-11.10.3.66-py3-none-manylinux1_x86_64.whl (317.1 MB)\n",
      "Collecting nvidia-cudnn-cu11==8.5.0.96\n",
      "  Using cached nvidia_cudnn_cu11-8.5.0.96-2-py3-none-manylinux1_x86_64.whl (557.1 MB)\n",
      "Requirement already satisfied: wheel in /opt/conda/lib/python3.7/site-packages (from nvidia-cublas-cu11==11.10.3.66->torch>=1.8.1->torchmetrics) (0.34.2)\n",
      "Requirement already satisfied: setuptools in /opt/conda/lib/python3.7/site-packages (from nvidia-cublas-cu11==11.10.3.66->torch>=1.8.1->torchmetrics) (59.3.0)\n",
      "Requirement already satisfied: pyparsing>=2.0.2 in /opt/conda/lib/python3.7/site-packages (from packaging->torchmetrics) (2.4.6)\n",
      "Requirement already satisfied: six in /opt/conda/lib/python3.7/site-packages (from packaging->torchmetrics) (1.14.0)\n",
      "Installing collected packages: nvidia-cuda-runtime-cu11, nvidia-cuda-nvrtc-cu11, nvidia-cublas-cu11, nvidia-cudnn-cu11, torch, torchmetrics\n",
      "Successfully installed nvidia-cublas-cu11-11.10.3.66 nvidia-cuda-nvrtc-cu11-11.7.99 nvidia-cuda-runtime-cu11-11.7.99 nvidia-cudnn-cu11-8.5.0.96 torch-1.13.1 torchmetrics-0.11.0\n",
      "\u001b[33mWARNING: Running pip as the 'root' user can result in broken permissions and conflicting behaviour with the system package manager. It is recommended to use a virtual environment instead: https://pip.pypa.io/warnings/venv\u001b[0m\u001b[33m\n",
      "\u001b[0mNote: you may need to restart the kernel to use updated packages.\n",
      "Keyring is skipped due to an exception: 'keyring.backends'\n",
      "Looking in indexes: https://pypi.org/simple, https://download.pytorch.org/whl/cu113\n",
      "Collecting torch==1.11.0+cu113\n",
      "  Downloading https://download.pytorch.org/whl/cu113/torch-1.11.0%2Bcu113-cp37-cp37m-linux_x86_64.whl (1637.0 MB)\n",
      "\u001b[2K     \u001b[90m━━━━━━━━━━━━━━━━━━━━━━━━━━━━━━━━━━━━━━━━\u001b[0m \u001b[32m1.6/1.6 GB\u001b[0m \u001b[31m446.2 kB/s\u001b[0m eta \u001b[36m0:00:00\u001b[0m00:01\u001b[0m00:01\u001b[0m\n",
      "\u001b[?25hCollecting torchvision==0.12.0+cu113\n",
      "  Downloading https://download.pytorch.org/whl/cu113/torchvision-0.12.0%2Bcu113-cp37-cp37m-linux_x86_64.whl (22.3 MB)\n",
      "\u001b[2K     \u001b[90m━━━━━━━━━━━━━━━━━━━━━━━━━━━━━━━━━━━━━━━━\u001b[0m \u001b[32m22.3/22.3 MB\u001b[0m \u001b[31m40.8 MB/s\u001b[0m eta \u001b[36m0:00:00\u001b[0m00:01\u001b[0m00:01\u001b[0m\n",
      "\u001b[?25hCollecting torchaudio==0.11.0\n",
      "  Downloading https://download.pytorch.org/whl/cu113/torchaudio-0.11.0%2Bcu113-cp37-cp37m-linux_x86_64.whl (2.9 MB)\n",
      "\u001b[2K     \u001b[90m━━━━━━━━━━━━━━━━━━━━━━━━━━━━━━━━━━━━━━━━\u001b[0m \u001b[32m2.9/2.9 MB\u001b[0m \u001b[31m24.3 MB/s\u001b[0m eta \u001b[36m0:00:00\u001b[0m00:01\u001b[0m00:01\u001b[0m\n",
      "\u001b[?25hRequirement already satisfied: typing-extensions in /opt/conda/lib/python3.7/site-packages (from torch==1.11.0+cu113) (4.4.0)\n",
      "Requirement already satisfied: pillow!=8.3.*,>=5.3.0 in /opt/conda/lib/python3.7/site-packages (from torchvision==0.12.0+cu113) (9.3.0)\n",
      "Requirement already satisfied: numpy in /opt/conda/lib/python3.7/site-packages (from torchvision==0.12.0+cu113) (1.21.6)\n",
      "Requirement already satisfied: requests in /opt/conda/lib/python3.7/site-packages (from torchvision==0.12.0+cu113) (2.28.1)\n",
      "Requirement already satisfied: certifi>=2017.4.17 in /opt/conda/lib/python3.7/site-packages (from requests->torchvision==0.12.0+cu113) (2022.9.24)\n",
      "Requirement already satisfied: idna<4,>=2.5 in /opt/conda/lib/python3.7/site-packages (from requests->torchvision==0.12.0+cu113) (2.8)\n",
      "Requirement already satisfied: urllib3<1.27,>=1.21.1 in /opt/conda/lib/python3.7/site-packages (from requests->torchvision==0.12.0+cu113) (1.26.13)\n",
      "Requirement already satisfied: charset-normalizer<3,>=2 in /opt/conda/lib/python3.7/site-packages (from requests->torchvision==0.12.0+cu113) (2.0.4)\n",
      "Installing collected packages: torch, torchvision, torchaudio\n",
      "  Attempting uninstall: torch\n",
      "    Found existing installation: torch 1.13.1\n",
      "    Uninstalling torch-1.13.1:\n",
      "      Successfully uninstalled torch-1.13.1\n",
      "Successfully installed torch-1.11.0+cu113 torchaudio-0.11.0+cu113 torchvision-0.12.0+cu113\n",
      "\u001b[33mWARNING: Running pip as the 'root' user can result in broken permissions and conflicting behaviour with the system package manager. It is recommended to use a virtual environment instead: https://pip.pypa.io/warnings/venv\u001b[0m\u001b[33m\n",
      "\u001b[0mNote: you may need to restart the kernel to use updated packages.\n",
      "Keyring is skipped due to an exception: 'keyring.backends'\n",
      "Requirement already satisfied: torchvision in /opt/conda/lib/python3.7/site-packages (0.12.0+cu113)\n",
      "Requirement already satisfied: numpy in /opt/conda/lib/python3.7/site-packages (from torchvision) (1.21.6)\n",
      "Requirement already satisfied: typing-extensions in /opt/conda/lib/python3.7/site-packages (from torchvision) (4.4.0)\n",
      "Requirement already satisfied: pillow!=8.3.*,>=5.3.0 in /opt/conda/lib/python3.7/site-packages (from torchvision) (9.3.0)\n",
      "Requirement already satisfied: torch==1.11.0 in /opt/conda/lib/python3.7/site-packages (from torchvision) (1.11.0+cu113)\n",
      "Requirement already satisfied: requests in /opt/conda/lib/python3.7/site-packages (from torchvision) (2.28.1)\n",
      "Requirement already satisfied: certifi>=2017.4.17 in /opt/conda/lib/python3.7/site-packages (from requests->torchvision) (2022.9.24)\n",
      "Requirement already satisfied: urllib3<1.27,>=1.21.1 in /opt/conda/lib/python3.7/site-packages (from requests->torchvision) (1.26.13)\n",
      "Requirement already satisfied: charset-normalizer<3,>=2 in /opt/conda/lib/python3.7/site-packages (from requests->torchvision) (2.0.4)\n",
      "Requirement already satisfied: idna<4,>=2.5 in /opt/conda/lib/python3.7/site-packages (from requests->torchvision) (2.8)\n",
      "\u001b[33mWARNING: Running pip as the 'root' user can result in broken permissions and conflicting behaviour with the system package manager. It is recommended to use a virtual environment instead: https://pip.pypa.io/warnings/venv\u001b[0m\u001b[33m\n",
      "\u001b[0mNote: you may need to restart the kernel to use updated packages.\n"
     ]
    }
   ],
   "source": [
    "%pip install pydicom\n",
    "%pip install torchmetrics\n",
    "%pip install torch==1.11.0+cu113 torchvision==0.12.0+cu113 torchaudio==0.11.0 --extra-index-url https://download.pytorch.org/whl/cu113\n",
    "%pip install torchvision"
   ]
  },
  {
   "cell_type": "code",
   "execution_count": 4,
   "id": "5e2a18e8-c509-430a-b835-11bd58a98afd",
   "metadata": {
    "tags": []
   },
   "outputs": [
    {
     "name": "stdout",
     "output_type": "stream",
     "text": [
      "15225\n"
     ]
    }
   ],
   "source": [
    "s3 = boto.client('s3')\n",
    "sagemaker_session = sagemaker.Session()\n",
    "bucket = 'mammographydata'\n",
    "key_prefix = 'DataSet/processed/'\n",
    "download_area = 'all_data' \n",
    "paginator = s3.get_paginator('list_objects_v2')\n",
    "pages = paginator.paginate(Bucket= bucket, Prefix= key_prefix)\n",
    "file_num = 0\n",
    "page_num = 0\n",
    "for page in pages:\n",
    "    response = page['Contents']\n",
    "    response = response[1:]\n",
    "    for file in response:\n",
    "        file_num += 1\n",
    "    #     key = file['Key'].split('/')\n",
    "    #     patient_ID = key[2]\n",
    "    #     view = key[3]\n",
    "    #     download_path = f'{download_area}/{patient_ID}'\n",
    "    #     specific_prefix = f'{key_prefix}{patient_ID}/{view}'\n",
    "    #     sagemaker_session.download_data(download_path, bucket, specific_prefix, extra_args=None)\n",
    "    #     file_num += 1\n",
    "    #     if file_num % 400 == 0:\n",
    "    #         print(f'On file num: {file_num}')\n",
    "    # print(f'On Page: {page_num}')\n",
    "    # page_num += 1\n",
    "print(file_num)"
   ]
  },
  {
   "cell_type": "code",
   "execution_count": 7,
   "id": "cc3c28f9-ca8e-4d05-8afa-edbca3d6f390",
   "metadata": {},
   "outputs": [
    {
     "name": "stdout",
     "output_type": "stream",
     "text": [
      "On Page: 0\n",
      "104\n"
     ]
    }
   ],
   "source": [
    "s3 = boto.client('s3')\n",
    "sagemaker_session = sagemaker.Session()\n",
    "bucket = 'mammographydata'\n",
    "key_prefix = 'DataSet/dv/'\n",
    "download_area = 'dv_data' \n",
    "paginator = s3.get_paginator('list_objects_v2')\n",
    "pages = paginator.paginate(Bucket= bucket, Prefix= key_prefix)\n",
    "file_num = 0\n",
    "page_num = 0\n",
    "for page in pages:\n",
    "    response = page['Contents']\n",
    "    response = response[1:]\n",
    "    for file in response:\n",
    "        file_num += 1\n",
    "        key = file['Key'].split('/')\n",
    "        patient_ID = key[2]\n",
    "        view = key[3]\n",
    "        download_path = f'{download_area}/{patient_ID}'\n",
    "        specific_prefix = f'{key_prefix}{patient_ID}/{view}'\n",
    "        sagemaker_session.download_data(download_path, bucket, specific_prefix, extra_args=None)\n",
    "        file_num += 1\n",
    "        if file_num % 400 == 0:\n",
    "            print(f'On file num: {file_num}')\n",
    "    print(f'On Page: {page_num}')\n",
    "    page_num += 1"
   ]
  },
  {
   "cell_type": "code",
   "execution_count": 11,
   "id": "47e198f9-f18f-4076-bf2b-afb82712fef3",
   "metadata": {
    "tags": []
   },
   "outputs": [
    {
     "name": "stdout",
     "output_type": "stream",
     "text": [
      "NUMBER OF UNDOWNLOADED DATA: 0\n",
      "NUMBER OF ISSUES: 0\n"
     ]
    }
   ],
   "source": [
    "s3 = boto.client('s3')\n",
    "sagemaker_session = sagemaker.Session()\n",
    "bucket = 'mammographydata'\n",
    "key_prefix = 'DataSet/processed/'\n",
    "download_area = 'all_data' \n",
    "paginator = s3.get_paginator('list_objects_v2')\n",
    "pages = paginator.paginate(Bucket= bucket, Prefix= key_prefix)\n",
    "i = 0\n",
    "j = 0\n",
    "labels = pickle.load(open('label_dict.pt', 'rb'))\n",
    "undownloaded_list = []\n",
    "for label in labels.keys():\n",
    "    if label not in os.listdir('all_data'):\n",
    "        i += 1\n",
    "    files = os.listdir(f'all_data/{label}')\n",
    "    if  'LCC.pt' not in files or 'LMLO.pt' not in files or 'RCC_flipped.pt' not in files or 'RMLO_flipped.pt' not in files:\n",
    "        print(label)\n",
    "        j += 1\n",
    "        undownloaded_list.append(label)\n",
    "print(f'NUMBER OF UNDOWNLOADED DATA: {i}')\n",
    "print(f'NUMBER OF ISSUES: {j}')"
   ]
  },
  {
   "cell_type": "code",
   "execution_count": 10,
   "id": "aac011f0-a23f-47e3-bc99-3aa12f5e0299",
   "metadata": {
    "tags": []
   },
   "outputs": [
    {
     "name": "stdout",
     "output_type": "stream",
     "text": [
      "0\n"
     ]
    }
   ],
   "source": [
    "s3 = boto.client('s3')\n",
    "sagemaker_session = sagemaker.Session()\n",
    "bucket = 'mammographydata'\n",
    "key_prefix = 'DataSet/processed/'\n",
    "download_area = 'all_data' \n",
    "paginator = s3.get_paginator('list_objects_v2')\n",
    "pages = paginator.paginate(Bucket= bucket, Prefix= key_prefix)\n",
    "file_num = 0\n",
    "page_num = 0\n",
    "views = ['LCC.pt','LMLO.pt','RCC_flipped.pt','RMLO_flipped.pt']\n",
    "# for page in pages:\n",
    "#     response = page['Contents']\n",
    "#     response = response[1:]\n",
    "for file in undownloaded_list:\n",
    "    # file_num += 1\n",
    "    # key = file['Key'].split('/')\n",
    "    patient_ID = file\n",
    "    # view = key[3]\n",
    "    download_path = f'{download_area}/{patient_ID}'\n",
    "    for view in views:\n",
    "        specific_prefix = f'{key_prefix}{patient_ID}/{view}'\n",
    "        sagemaker_session.download_data(download_path, bucket, specific_prefix, extra_args=None)\n",
    "    # file_num += 1\n",
    "    # if file_num % 400 == 0:\n",
    "        # print(f'On file num: {file_num}')\n",
    "# print(f'On Page: {page_num}')\n",
    "# page_num += 1\n",
    "print(file_num)"
   ]
  },
  {
   "cell_type": "code",
   "execution_count": 2,
   "id": "9992dc21-55ab-4e6a-a5b2-24c7c5fc6541",
   "metadata": {
    "tags": []
   },
   "outputs": [],
   "source": [
    "import boto3 as boto\n",
    "import pickle\n",
    "import torch\n",
    "import sagemaker\n",
    "import pandas as pd\n",
    "import os\n",
    "import numpy as np\n",
    "import pydicom as dicom\n",
    "from torch import nn"
   ]
  },
  {
   "cell_type": "code",
   "execution_count": 3,
   "id": "e83a1864-643b-4455-8e2b-edd4f3b12320",
   "metadata": {
    "tags": []
   },
   "outputs": [],
   "source": [
    "from mammography_project.src.models import data\n",
    "from mammography_project.src.models import MyClasses\n",
    "from mammography_project.src.models import BatchedMyClasses\n",
    "from mammography_project.src.models import PaperModel\n",
    "from mammography_project.src.models import runners"
   ]
  },
  {
   "cell_type": "code",
   "execution_count": null,
   "id": "c1f0200c-03f4-4a43-a5a2-e87dcded15d0",
   "metadata": {
    "tags": []
   },
   "outputs": [
    {
     "name": "stdout",
     "output_type": "stream",
     "text": [
      "LEN TEST GEN BEFORE: 762\n",
      "LEN TRAIN GEN BEFORE: 3048\n",
      "LEN TEST GEN: 762\n",
      "LEN TRAIN GEN: 3048\n",
      "Starting mean_and_variance\n",
      "Finishing mean_and_variance\n",
      "Starting mean_and_variance\n",
      "Finishing mean_and_variance\n",
      "Trying Batched\n",
      "Starting Training\n",
      "\t[GPU cuda] Epoch 1\n",
      "Have run 20 batches\n",
      "Have run 40 batches\n",
      "Have run 60 batches\n",
      "Have run 80 batches\n",
      "Have run 100 batches\n",
      "Have run 120 batches\n",
      "Have run 140 batches\n",
      "Have run 160 batches\n",
      "Have run 180 batches\n",
      "Have run 200 batches\n",
      "Have run 220 batches\n",
      "Have run 240 batches\n",
      "Have run 260 batches\n",
      "Have run 580 batches\n",
      "Have run 760 batches\n",
      "Have run 860 batches\n",
      "Have run 880 batches\n",
      "Have run 900 batches\n"
     ]
    }
   ],
   "source": [
    "PaperModel.main(batch_size = 2, device = 'cuda')"
   ]
  }
 ],
 "metadata": {
  "instance_type": "ml.t3.medium",
  "kernelspec": {
   "display_name": "base",
   "language": "python",
   "name": "python3"
  },
  "language_info": {
   "codemirror_mode": {
    "name": "ipython",
    "version": 3
   },
   "file_extension": ".py",
   "mimetype": "text/x-python",
   "name": "python",
   "nbconvert_exporter": "python",
   "pygments_lexer": "ipython3",
   "version": "3.9.7 (default, Sep 16 2021, 08:50:36) \n[Clang 10.0.0 ]"
  },
  "vscode": {
   "interpreter": {
    "hash": "fd113b2a9df287374a3fd2b454cbdcd71cef09588561f21ffa03c41d49604b2b"
   }
  }
 },
 "nbformat": 4,
 "nbformat_minor": 5
}
