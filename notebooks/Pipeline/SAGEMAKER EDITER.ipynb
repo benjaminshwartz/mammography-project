{
 "cells": [
  {
   "cell_type": "code",
   "execution_count": 17,
   "id": "a8208799",
   "metadata": {},
   "outputs": [],
   "source": [
    "#Input arrays are (3500, 2800)\n",
    "import torch\n",
    "from torch import nn\n",
    "import numpy as np\n",
    "import pandas as pd\n",
    "import os\n",
    "import pydicom as dicom\n",
    "import math\n",
    "import time\n",
    "import MyClasses2"
   ]
  },
  {
   "cell_type": "code",
   "execution_count": 18,
   "id": "779039be",
   "metadata": {},
   "outputs": [
    {
     "ename": "NameError",
     "evalue": "name 'VisualTransformer' is not defined",
     "output_type": "error",
     "traceback": [
      "\u001b[0;31m---------------------------------------------------------------------------\u001b[0m",
      "\u001b[0;31mNameError\u001b[0m                                 Traceback (most recent call last)",
      "Input \u001b[0;32mIn [18]\u001b[0m, in \u001b[0;36m<cell line: 2>\u001b[0;34m()\u001b[0m\n\u001b[1;32m      1\u001b[0m tensor \u001b[38;5;241m=\u001b[39m torch\u001b[38;5;241m.\u001b[39mzeros(\u001b[38;5;241m1\u001b[39m,\u001b[38;5;241m4\u001b[39m,\u001b[38;5;241m3500\u001b[39m,\u001b[38;5;241m2800\u001b[39m)\n\u001b[0;32m----> 2\u001b[0m model \u001b[38;5;241m=\u001b[39m \u001b[43mPaperModel\u001b[49m\u001b[43m(\u001b[49m\u001b[43m)\u001b[49m\n\u001b[1;32m      3\u001b[0m model\u001b[38;5;241m.\u001b[39mforward(tensor)\n",
      "Input \u001b[0;32mIn [15]\u001b[0m, in \u001b[0;36mPaperModel.__init__\u001b[0;34m(self, x_amount, y_amount, x_con, y_con, data_shape, hidden_output_fnn, dropout, number_of_layers, num_layers_global)\u001b[0m\n\u001b[1;32m      6\u001b[0m \u001b[38;5;28msuper\u001b[39m(PaperModel, \u001b[38;5;28mself\u001b[39m)\u001b[38;5;241m.\u001b[39m\u001b[38;5;21m__init__\u001b[39m()\n\u001b[1;32m      8\u001b[0m \u001b[38;5;28mself\u001b[39m\u001b[38;5;241m.\u001b[39membedding_block \u001b[38;5;241m=\u001b[39m EmbeddingBlock(\n\u001b[1;32m      9\u001b[0m     x_amount, y_amount, x_con, y_con)\n\u001b[0;32m---> 11\u001b[0m \u001b[38;5;28mself\u001b[39m\u001b[38;5;241m.\u001b[39mvisual_transformer \u001b[38;5;241m=\u001b[39m \u001b[43mVisualTransformer\u001b[49m(x_amount, y_amount, x_con, y_con,\n\u001b[1;32m     12\u001b[0m                                             data_shape, hidden_output_fnn, dropout,\n\u001b[1;32m     13\u001b[0m                                             number_of_layers)\n\u001b[1;32m     15\u001b[0m \u001b[38;5;28mself\u001b[39m\u001b[38;5;241m.\u001b[39mglobal_transformer \u001b[38;5;241m=\u001b[39m GlobalTransformer(x_amount, y_amount, x_con, y_con,\n\u001b[1;32m     16\u001b[0m                                             data_shape, hidden_output_fnn, dropout,\n\u001b[1;32m     17\u001b[0m                                             number_of_layers, num_layers_global)\n\u001b[1;32m     19\u001b[0m \u001b[38;5;28mself\u001b[39m\u001b[38;5;241m.\u001b[39mclassification_head_left \u001b[38;5;241m=\u001b[39m ClassificationHead(\n\u001b[1;32m     20\u001b[0m     input_layer\u001b[38;5;241m=\u001b[39m\u001b[38;5;241m1024\u001b[39m, hidden_output_class\u001b[38;5;241m=\u001b[39m\u001b[38;5;241m512\u001b[39m, dropout\u001b[38;5;241m=\u001b[39m\u001b[38;5;241m0.5\u001b[39m)\n",
      "\u001b[0;31mNameError\u001b[0m: name 'VisualTransformer' is not defined"
     ]
    }
   ],
   "source": [
    "tensor = torch.zeros(1,4,3500,2800)\n",
    "model = PaperModel()\n",
    "model.forward(tensor)"
   ]
  }
 ],
 "metadata": {
  "kernelspec": {
   "display_name": "Python 3 (ipykernel)",
   "language": "python",
   "name": "python3"
  },
  "language_info": {
   "codemirror_mode": {
    "name": "ipython",
    "version": 3
   },
   "file_extension": ".py",
   "mimetype": "text/x-python",
   "name": "python",
   "nbconvert_exporter": "python",
   "pygments_lexer": "ipython3",
   "version": "3.9.7"
  }
 },
 "nbformat": 4,
 "nbformat_minor": 5
}
