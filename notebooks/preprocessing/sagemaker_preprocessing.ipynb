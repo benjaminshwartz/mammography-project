{
 "cells": [
  {
   "cell_type": "code",
   "execution_count": 2,
   "id": "db517def-5542-40c3-959d-db69b65cefe0",
   "metadata": {
    "tags": []
   },
   "outputs": [
    {
     "name": "stdout",
     "output_type": "stream",
     "text": [
      "--2022-12-31 15:20:09--  https://mammographydata.s3.amazonaws.com/totaldata.zip\n",
      "Resolving mammographydata.s3.amazonaws.com (mammographydata.s3.amazonaws.com)... 52.217.137.169, 52.216.244.180, 52.216.57.57, ...\n",
      "Connecting to mammographydata.s3.amazonaws.com (mammographydata.s3.amazonaws.com)|52.217.137.169|:443... connected.\n",
      "HTTP request sent, awaiting response... 200 OK\n",
      "Length: 54411087734 (51G) [application/zip]\n",
      "Saving to: ‘totaldata.zip’\n",
      "\n",
      "totaldata.zip       100%[===================>]  50.67G  50.8MB/s    in 25m 0s  \n",
      "\n",
      "2022-12-31 15:45:11 (34.6 MB/s) - ‘totaldata.zip’ saved [54411087734/54411087734]\n",
      "\n"
     ]
    }
   ],
   "source": [
    "!wget https://mammographydata.s3.amazonaws.com/totaldata.zip"
   ]
  },
  {
   "cell_type": "code",
   "execution_count": 3,
   "id": "248c36f0-a3a7-4c10-b278-f4072dbf1538",
   "metadata": {
    "tags": []
   },
   "outputs": [],
   "source": [
    "!unzip -q totaldata.zip"
   ]
  },
  {
   "cell_type": "code",
   "execution_count": 11,
   "id": "6223cabb-017f-40b4-8e59-3fad4f47d4ae",
   "metadata": {
    "tags": []
   },
   "outputs": [
    {
     "name": "stdout",
     "output_type": "stream",
     "text": [
      "Collecting pydicom\n",
      "  Downloading pydicom-2.3.1-py3-none-any.whl (2.0 MB)\n",
      "     |████████████████████████████████| 2.0 MB 25.5 MB/s            \n",
      "\u001b[?25hInstalling collected packages: pydicom\n",
      "Successfully installed pydicom-2.3.1\n",
      "\u001b[33mWARNING: Running pip as the 'root' user can result in broken permissions and conflicting behaviour with the system package manager. It is recommended to use a virtual environment instead: https://pip.pypa.io/warnings/venv\u001b[0m\n",
      "Note: you may need to restart the kernel to use updated packages.\n"
     ]
    }
   ],
   "source": [
    "%pip install pydicom"
   ]
  },
  {
   "cell_type": "code",
   "execution_count": 13,
   "id": "86090ee8-a3f7-499e-b9ed-f66e55d7540e",
   "metadata": {
    "tags": []
   },
   "outputs": [],
   "source": [
    "import os\n",
    "import torch\n",
    "import pandas as pd\n",
    "import pickle\n",
    "import pydicom as dicom \n",
    "import numpy as np\n",
    "import boto3 as boto"
   ]
  },
  {
   "cell_type": "code",
   "execution_count": 16,
   "id": "6ddf0e6b-68b7-4956-9719-fc6639f1874c",
   "metadata": {
    "tags": []
   },
   "outputs": [],
   "source": [
    "s3_resource = boto.resource('s3')\n",
    "s3_client = boto.client('s3')"
   ]
  },
  {
   "cell_type": "code",
   "execution_count": 19,
   "id": "f95f4148-06a1-4e03-931b-2ba7b365962d",
   "metadata": {
    "tags": []
   },
   "outputs": [
    {
     "data": {
      "text/plain": [
       "{'ResponseMetadata': {'RequestId': 'A46DKMC6A2WBB0XT',\n",
       "  'HostId': 'sFzG6gs56mRunW+7mr7c3fw2H3s2Mjrapi8zpMaH8NyPSO/bJtTuFSTIRoKX6AIBQz5uVDvHaVg=',\n",
       "  'HTTPStatusCode': 200,\n",
       "  'HTTPHeaders': {'x-amz-id-2': 'sFzG6gs56mRunW+7mr7c3fw2H3s2Mjrapi8zpMaH8NyPSO/bJtTuFSTIRoKX6AIBQz5uVDvHaVg=',\n",
       "   'x-amz-request-id': 'A46DKMC6A2WBB0XT',\n",
       "   'date': 'Sat, 31 Dec 2022 22:00:11 GMT',\n",
       "   'content-type': 'application/xml',\n",
       "   'transfer-encoding': 'chunked',\n",
       "   'server': 'AmazonS3'},\n",
       "  'RetryAttempts': 0},\n",
       " 'Buckets': [{'Name': 'mammographydata',\n",
       "   'CreationDate': datetime.datetime(2022, 12, 27, 22, 23, 46, tzinfo=tzlocal())},\n",
       "  {'Name': 'sagemaker-studio-076583500559-g8yws2424w',\n",
       "   'CreationDate': datetime.datetime(2022, 12, 31, 15, 8, 6, tzinfo=tzlocal())},\n",
       "  {'Name': 'sagemaker-us-east-1-076583500559',\n",
       "   'CreationDate': datetime.datetime(2022, 12, 31, 15, 11, 14, tzinfo=tzlocal())}],\n",
       " 'Owner': {'DisplayName': 'bls255',\n",
       "  'ID': '233f5bf55406c96fd4037d43538bbfb7e3002791acf4ccc882bcab4982cfe336'}}"
      ]
     },
     "execution_count": 19,
     "metadata": {},
     "output_type": "execute_result"
    }
   ],
   "source": [
    "s3_client.list_buckets()"
   ]
  },
  {
   "cell_type": "code",
   "execution_count": 20,
   "id": "1bf3967c-783a-4968-87f9-1ce5b23200c0",
   "metadata": {
    "tags": []
   },
   "outputs": [
    {
     "name": "stdout",
     "output_type": "stream",
     "text": [
      "There are 4 images\n"
     ]
    }
   ],
   "source": [
    "i =0\n",
    "for patient in os.listdir('parent/images/0025a5dc99fd5c742026f0b2b030d3e9'):\n",
    "    i += 1\n",
    "print(f'There are {i} images')"
   ]
  },
  {
   "cell_type": "code",
   "execution_count": 7,
   "id": "31d2fd9d-480b-47fd-bf68-dea229c233f3",
   "metadata": {
    "tags": []
   },
   "outputs": [],
   "source": [
    "# parse csv summary file\n",
    "\n",
    "df = pd.read_csv(f'parent/breast-level_annotations.csv')\n",
    "df = df[(df['height'] == 3518) & (df['width'] == 2800)]\n",
    "df = df[~df['study_id'].isin(['dbca9d28baa3207b3187c4d07dc81a80'])]"
   ]
  },
  {
   "cell_type": "code",
   "execution_count": 9,
   "id": "107772a5-fde4-40a6-979e-febc1dff3b22",
   "metadata": {
    "tags": []
   },
   "outputs": [],
   "source": [
    "#  CREATE LABEL DICT of the form {'patient': {'L': score, 'R': score} }\n",
    "\n",
    "patients = list(df['study_id'].unique())\n",
    "left_breast_birads = df[((df['laterality'] == 'L') & (\n",
    "    df['view_position'] == 'CC'))]['breast_birads']\n",
    "right_breast_birads = df[((df['laterality'] == 'R') & (\n",
    "    df['view_position'] == 'CC'))]['breast_birads']\n",
    "\n",
    "left_breast_birads = list(left_breast_birads.map(lambda x: int(x[-1])))\n",
    "right_breast_birads = list(right_breast_birads.map(lambda x: int(x[-1])))\n",
    "\n",
    "label_dict = dict()\n",
    "\n",
    "i = 0\n",
    "for patient in patients:\n",
    "    left_label = left_breast_birads[i]\n",
    "    right_label = right_breast_birads[i]\n",
    "    label_dict[patient] = {'L': left_label, 'R': right_label}\n",
    "    i += 1"
   ]
  },
  {
   "cell_type": "code",
   "execution_count": 57,
   "id": "72b1a13e-490c-4f9b-b488-bf47a86efe55",
   "metadata": {
    "tags": []
   },
   "outputs": [],
   "source": [
    "# Pickling dictionary and uploading it to s3 bucket\n",
    "# Arugments go: (Name in notebook, s3 bucket, path in bucket/name)\n",
    "pickle.dump(label_dict,open('label_dict.pt','wb'))\n",
    "s3_client.upload_file('label_dict.pt', 'mammographydata', 'DataSet/label_dict.pt')\n",
    "s3_client.upload_file('label_dict.pt', 'mammographydata', 'DataSet/Label_dict_folder/label_dict.pt')"
   ]
  },
  {
   "cell_type": "code",
   "execution_count": 63,
   "id": "2d8dab3f-a649-4d66-b3f3-10a96fe77223",
   "metadata": {
    "tags": []
   },
   "outputs": [],
   "source": [
    "def find_zeros(data):\n",
    "    x , y = data.shape\n",
    "    zero_t = torch.tensor(0)\n",
    "    if x != 3500:\n",
    "        diff = x - 3500\n",
    "        i = 0\n",
    "        j = 0\n",
    "        k = 0\n",
    "        while k != diff:\n",
    "            #print(f'in loop {k} time on same data')\n",
    "            if (torch.count_nonzero(data[:i,:]) == zero_t):\n",
    "                i += 1\n",
    "            if (torch.count_nonzero(data[x-j:x,:] == zero_t)):\n",
    "                j += 1\n",
    "            k += 1\n",
    "            \n",
    "        if i + j != diff:\n",
    "            #print('There was an issue')\n",
    "            i = 0\n",
    "            j = diff\n",
    "            \n",
    "            \n",
    "    return data[i:x-j,:]"
   ]
  },
  {
   "cell_type": "code",
   "execution_count": null,
   "id": "212f11a9-0f98-4bbb-a6cd-bdf3b450ca2c",
   "metadata": {
    "tags": []
   },
   "outputs": [],
   "source": [
    "for patient in patients:\n",
    "    curr_df = df[df['study_id'] == patient]\n",
    "    lmlo_image_id = list(curr_df[((curr_df['laterality'] == 'L') & (\n",
    "        curr_df['view_position'] == 'MLO'))]['image_id'])[0]\n",
    "    lcc_image_id = list(curr_df[((curr_df['laterality'] == 'L') & (\n",
    "        curr_df['view_position'] == 'CC'))]['image_id'])[0]\n",
    "    rmlo_image_id = list(curr_df[((curr_df['laterality'] == 'R') & (\n",
    "        curr_df['view_position'] == 'MLO'))]['image_id'])[0]\n",
    "    rcc_image_id = list(curr_df[((curr_df['laterality'] == 'R') & (\n",
    "        curr_df['view_position'] == 'CC'))]['image_id'])[0]\n",
    "\n",
    "    lmlo_dicom = dicom.dcmread(f'parent/images/{patient}/{lmlo_image_id}.dicom')\n",
    "    lcc_dicom = dicom.dcmread(f'parent/images/{patient}/{lcc_image_id}.dicom')\n",
    "    rmlo_dicom = dicom.dcmread(f'parent/images/{patient}/{rmlo_image_id}.dicom')\n",
    "    rcc_dicom = dicom.dcmread(f'parent/images/{patient}/{rcc_image_id}.dicom')\n",
    "    \n",
    "\n",
    "    lmlo_torch = find_zeros(torch.from_numpy(np.array(lmlo_dicom.pixel_array, dtype= np.float32)))\n",
    "    lcc_torch = find_zeros(torch.from_numpy(np.array(lcc_dicom.pixel_array, dtype = np.float32)))\n",
    "    rmlo_torch = find_zeros(torch.flip(torch.from_numpy(np.array(rmlo_dicom.pixel_array, dtype = np.float32)),(1,)))\n",
    "    rcc_torch = find_zeros(torch.flip(torch.from_numpy(np.array(rcc_dicom.pixel_array, dtype= np.float32)),(1,)))\n",
    "    \n",
    "    \n",
    "\n",
    "    pickle.dump(lmlo_torch, open(f'{patient}_LMLO.pt', \"wb\"))\n",
    "    pickle.dump(lcc_torch, open(f'{patient}_LCC.pt', \"wb\"))\n",
    "    pickle.dump(rmlo_torch, open(f'{patient}_RMLO_flipped.pt', \"wb\"))\n",
    "    pickle.dump(rcc_torch, open(f'{patient}_RCC_flipped.pt', \"wb\"))\n",
    "    \n",
    "    s3_client.upload_file(f'{patient}_LMLO.pt', 'mammographydata', f'DataSet/processed/{patient}/LMLO.pt')\n",
    "    s3_client.upload_file(f'{patient}_LCC.pt', 'mammographydata', f'DataSet/processed/{patient}/LCC.pt')\n",
    "    s3_client.upload_file(f'{patient}_RMLO_flipped.pt', 'mammographydata', f'DataSet/processed/{patient}/RMLO_flipped.pt')\n",
    "    s3_client.upload_file(f'{patient}_RCC_flipped.pt', 'mammographydata', f'DataSet/processed/{patient}/RCC_flipped.pt')"
   ]
  },
  {
   "cell_type": "code",
   "execution_count": 56,
   "id": "df421518-82cf-4580-85b8-578a99bb60b6",
   "metadata": {
    "tags": []
   },
   "outputs": [
    {
     "name": "stdout",
     "output_type": "stream",
     "text": [
      "There was an issue\n",
      "There was an issue\n",
      "There was an issue\n",
      "There was an issue\n",
      "There was an issue\n",
      "There was an issue\n",
      "There was an issue\n",
      "There was an issue\n",
      "There was an issue\n",
      "There was an issue\n",
      "There was an issue\n"
     ]
    },
    {
     "ename": "KeyboardInterrupt",
     "evalue": "",
     "output_type": "error",
     "traceback": [
      "\u001b[0;31m---------------------------------------------------------------------------\u001b[0m",
      "\u001b[0;31mKeyboardInterrupt\u001b[0m                         Traceback (most recent call last)",
      "\u001b[0;32m<ipython-input-56-2f7ffda9a004>\u001b[0m in \u001b[0;36m<module>\u001b[0;34m\u001b[0m\n\u001b[1;32m      5\u001b[0m         \u001b[0mdata\u001b[0m \u001b[0;34m=\u001b[0m \u001b[0mnp\u001b[0m\u001b[0;34m.\u001b[0m\u001b[0marray\u001b[0m\u001b[0;34m(\u001b[0m\u001b[0mds\u001b[0m\u001b[0;34m.\u001b[0m\u001b[0mpixel_array\u001b[0m\u001b[0;34m,\u001b[0m \u001b[0mdtype\u001b[0m \u001b[0;34m=\u001b[0m \u001b[0mnp\u001b[0m\u001b[0;34m.\u001b[0m\u001b[0mfloat32\u001b[0m\u001b[0;34m)\u001b[0m\u001b[0;34m\u001b[0m\u001b[0;34m\u001b[0m\u001b[0m\n\u001b[1;32m      6\u001b[0m         \u001b[0mdata\u001b[0m \u001b[0;34m=\u001b[0m \u001b[0mtorch\u001b[0m\u001b[0;34m.\u001b[0m\u001b[0mfrom_numpy\u001b[0m\u001b[0;34m(\u001b[0m\u001b[0mdata\u001b[0m\u001b[0;34m)\u001b[0m\u001b[0;34m\u001b[0m\u001b[0;34m\u001b[0m\u001b[0m\n\u001b[0;32m----> 7\u001b[0;31m         \u001b[0mnew_data\u001b[0m \u001b[0;34m=\u001b[0m \u001b[0mfind_zeros\u001b[0m\u001b[0;34m(\u001b[0m\u001b[0mdata\u001b[0m\u001b[0;34m)\u001b[0m\u001b[0;34m\u001b[0m\u001b[0;34m\u001b[0m\u001b[0m\n\u001b[0m\u001b[1;32m      8\u001b[0m         \u001b[0;32mif\u001b[0m \u001b[0mnew_data\u001b[0m\u001b[0;34m.\u001b[0m\u001b[0mshape\u001b[0m \u001b[0;34m!=\u001b[0m \u001b[0;34m(\u001b[0m\u001b[0;36m3500\u001b[0m\u001b[0;34m,\u001b[0m\u001b[0;36m2800\u001b[0m\u001b[0;34m)\u001b[0m \u001b[0;32mand\u001b[0m \u001b[0mdata\u001b[0m\u001b[0;34m.\u001b[0m\u001b[0mshape\u001b[0m \u001b[0;34m==\u001b[0m \u001b[0;34m(\u001b[0m\u001b[0;36m3518\u001b[0m\u001b[0;34m,\u001b[0m \u001b[0;36m2800\u001b[0m\u001b[0;34m)\u001b[0m\u001b[0;34m:\u001b[0m\u001b[0;34m\u001b[0m\u001b[0;34m\u001b[0m\u001b[0m\n\u001b[1;32m      9\u001b[0m             \u001b[0mprint\u001b[0m\u001b[0;34m(\u001b[0m\u001b[0;34mf'Patient ID: {patient}'\u001b[0m\u001b[0;34m)\u001b[0m\u001b[0;34m\u001b[0m\u001b[0;34m\u001b[0m\u001b[0m\n",
      "\u001b[0;32m<ipython-input-55-1c279e79d7f4>\u001b[0m in \u001b[0;36mfind_zeros\u001b[0;34m(data)\u001b[0m\n\u001b[1;32m     11\u001b[0m             \u001b[0;32mif\u001b[0m \u001b[0;34m(\u001b[0m\u001b[0mtorch\u001b[0m\u001b[0;34m.\u001b[0m\u001b[0mcount_nonzero\u001b[0m\u001b[0;34m(\u001b[0m\u001b[0mdata\u001b[0m\u001b[0;34m[\u001b[0m\u001b[0;34m:\u001b[0m\u001b[0mi\u001b[0m\u001b[0;34m,\u001b[0m\u001b[0;34m:\u001b[0m\u001b[0;34m]\u001b[0m\u001b[0;34m)\u001b[0m \u001b[0;34m==\u001b[0m \u001b[0mzero_t\u001b[0m\u001b[0;34m)\u001b[0m\u001b[0;34m:\u001b[0m\u001b[0;34m\u001b[0m\u001b[0;34m\u001b[0m\u001b[0m\n\u001b[1;32m     12\u001b[0m                 \u001b[0mi\u001b[0m \u001b[0;34m+=\u001b[0m \u001b[0;36m1\u001b[0m\u001b[0;34m\u001b[0m\u001b[0;34m\u001b[0m\u001b[0m\n\u001b[0;32m---> 13\u001b[0;31m             \u001b[0;32mif\u001b[0m \u001b[0;34m(\u001b[0m\u001b[0mtorch\u001b[0m\u001b[0;34m.\u001b[0m\u001b[0mcount_nonzero\u001b[0m\u001b[0;34m(\u001b[0m\u001b[0mdata\u001b[0m\u001b[0;34m[\u001b[0m\u001b[0mx\u001b[0m\u001b[0;34m-\u001b[0m\u001b[0mj\u001b[0m\u001b[0;34m:\u001b[0m\u001b[0mx\u001b[0m\u001b[0;34m,\u001b[0m\u001b[0;34m:\u001b[0m\u001b[0;34m]\u001b[0m \u001b[0;34m==\u001b[0m \u001b[0mzero_t\u001b[0m\u001b[0;34m)\u001b[0m\u001b[0;34m)\u001b[0m\u001b[0;34m:\u001b[0m\u001b[0;34m\u001b[0m\u001b[0;34m\u001b[0m\u001b[0m\n\u001b[0m\u001b[1;32m     14\u001b[0m                 \u001b[0mj\u001b[0m \u001b[0;34m+=\u001b[0m \u001b[0;36m1\u001b[0m\u001b[0;34m\u001b[0m\u001b[0;34m\u001b[0m\u001b[0m\n\u001b[1;32m     15\u001b[0m             \u001b[0mk\u001b[0m \u001b[0;34m+=\u001b[0m \u001b[0;36m1\u001b[0m\u001b[0;34m\u001b[0m\u001b[0;34m\u001b[0m\u001b[0m\n",
      "\u001b[0;31mKeyboardInterrupt\u001b[0m: "
     ]
    }
   ],
   "source": [
    "i = 0\n",
    "for patient in os.listdir('parent/images'):\n",
    "    for image in os.listdir(f'parent/images/{patient}'):\n",
    "        ds = dicom.dcmread(f'parent/images/{patient}/{image}')\n",
    "        data = np.array(ds.pixel_array, dtype = np.float32)\n",
    "        data = torch.from_numpy(data)\n",
    "        new_data = find_zeros(data)\n",
    "        if new_data.shape != (3500,2800) and data.shape == (3518, 2800):\n",
    "            print(f'Patient ID: {patient}')\n",
    "            print(f'Image ID: {image}')\n",
    "            print(data.shape)"
   ]
  }
 ],
 "metadata": {
  "instance_type": "ml.t3.medium",
  "kernelspec": {
   "display_name": "Python 3 (PyTorch 1.8 Python 3.6 GPU Optimized)",
   "language": "python",
   "name": "python3__SAGEMAKER_INTERNAL__arn:aws:sagemaker:us-east-1:081325390199:image/pytorch-1.8-gpu-py36"
  },
  "language_info": {
   "codemirror_mode": {
    "name": "ipython",
    "version": 3
   },
   "file_extension": ".py",
   "mimetype": "text/x-python",
   "name": "python",
   "nbconvert_exporter": "python",
   "pygments_lexer": "ipython3",
   "version": "3.6.13"
  }
 },
 "nbformat": 4,
 "nbformat_minor": 5
}
